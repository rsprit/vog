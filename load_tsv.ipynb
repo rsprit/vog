{
 "cells": [
  {
   "cell_type": "code",
   "execution_count": null,
   "metadata": {},
   "outputs": [],
   "source": [
    "import pandas as pd"
   ]
  },
  {
   "cell_type": "code",
   "execution_count": null,
   "metadata": {},
   "outputs": [],
   "source": [
    "annotations = pd.read_table('data/vog.annotations.tsv',\n",
    "                           header=0,\n",
    "                           names=['group','protein_count','species_count','func_cat','func_desc']).set_index(['group'])\n",
    "annotations"
   ]
  },
  {
   "cell_type": "code",
   "execution_count": null,
   "metadata": {},
   "outputs": [],
   "source": [
    "members = pd.read_table('data/vog.members.tsv',\n",
    "                        header=0,\n",
    "                        names=['group','protein_count','species_count','func_cat','proteins']).set_index(['group'])\n",
    "members = members.assign(\n",
    "    proteins=members.proteins.apply(lambda s: frozenset(s.split(','))),\n",
    ")\n",
    "members = members.assign(\n",
    "    species=members.proteins.apply(lambda s: frozenset(p.split('.')[0] for p in s))\n",
    ")\n",
    "members"
   ]
  },
  {
   "cell_type": "code",
   "execution_count": null,
   "metadata": {},
   "outputs": [],
   "source": [
    "lca = pd.read_table('data/vog.lca.tsv',\n",
    "                   header=0,\n",
    "                   names=['group','genomes_in_group','genomes_total','ancestors']).set_index(['group'])\n",
    "\n",
    "lca = lca.assign(\n",
    "    ancestors=lca.ancestors.fillna('').apply(lambda s: s.split(';'))\n",
    ")\n",
    "\n",
    "lca"
   ]
  },
  {
   "cell_type": "code",
   "execution_count": null,
   "metadata": {},
   "outputs": [],
   "source": [
    "virusonly = pd.read_table('data/vog.virusonly.tsv', \n",
    "                          header=0, \n",
    "                          names=['group','high','medium','low']).set_index(['group'])\n",
    "virusonly"
   ]
  },
  {
   "cell_type": "code",
   "execution_count": null,
   "metadata": {},
   "outputs": [],
   "source": []
  }
 ],
 "metadata": {
  "kernelspec": {
   "display_name": "Python 3",
   "language": "python",
   "name": "python3"
  },
  "language_info": {
   "codemirror_mode": {
    "name": "ipython",
    "version": 3
   },
   "file_extension": ".py",
   "mimetype": "text/x-python",
   "name": "python",
   "nbconvert_exporter": "python",
   "pygments_lexer": "ipython3",
   "version": "3.7.9"
  }
 },
 "nbformat": 4,
 "nbformat_minor": 4
}
